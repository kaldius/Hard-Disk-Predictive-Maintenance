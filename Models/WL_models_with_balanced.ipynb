{
 "cells": [
  {
   "cell_type": "markdown",
   "metadata": {},
   "source": [
    "### This is similar to ML_Model_training_4.ipynb except we are using a 2:1 negative:positive data split"
   ]
  },
  {
   "cell_type": "code",
   "execution_count": 80,
   "metadata": {},
   "outputs": [],
   "source": [
    "import pandas as pd\n",
    "import numpy as np\n",
    "from sklearn.linear_model import LogisticRegression\n",
    "from sklearn.svm import SVC\n",
    "from sklearn.neighbors import KNeighborsClassifier\n",
    "from sklearn.model_selection import cross_val_score\n",
    "from sklearn.naive_bayes import GaussianNB\n",
    "from sklearn.tree import DecisionTreeClassifier\n",
    "from sklearn.ensemble import GradientBoostingClassifier\n",
    "from sklearn.ensemble import RandomForestClassifier\n",
    "from sklearn.ensemble import AdaBoostClassifier\n",
    "import plotly.express as px\n",
    "from sklearn.metrics import roc_auc_score\n",
    "from sklearn.metrics import accuracy_score\n",
    "from sklearn.model_selection import GridSearchCV\n",
    "from sklearn.model_selection import train_test_split\n",
    "import xgboost as xgb\n",
    "import warnings\n",
    "warnings.simplefilter('ignore')\n",
    "from sklearn.metrics import confusion_matrix\n",
    "import matplotlib.pyplot as plt\n",
    "import seaborn as sns\n",
    "from sklearn.ensemble import StackingClassifier"
   ]
  },
  {
   "cell_type": "code",
   "execution_count": 81,
   "metadata": {},
   "outputs": [],
   "source": [
    "train = pd.read_csv('Cleaned_data/Train_dataset.csv', index_col=0)\n",
    "test = pd.read_csv('Cleaned_data/Test_dataset.csv', index_col=0)"
   ]
  },
  {
   "cell_type": "code",
   "execution_count": 82,
   "metadata": {},
   "outputs": [
    {
     "data": {
      "text/plain": [
       "0    31277\n",
       "1      836\n",
       "Name: failure_actual_fail, dtype: int64"
      ]
     },
     "execution_count": 82,
     "metadata": {},
     "output_type": "execute_result"
    }
   ],
   "source": [
    "train.drop(columns = ['date_x','serial_number','model','failure_x','date_actual_fail'], inplace=True)\n",
    "test.drop(columns = ['date_x','serial_number','model','failure_x','date_actual_fail'], inplace=True)\n",
    "train.head()\n",
    "train['failure_actual_fail'].value_counts()"
   ]
  },
  {
   "cell_type": "markdown",
   "metadata": {},
   "source": [
    "# Method 2 split data - Using train_test_split directly"
   ]
  },
  {
   "cell_type": "code",
   "execution_count": 83,
   "metadata": {},
   "outputs": [],
   "source": [
    "train_features = train.drop(columns=['failure_actual_fail'])\n",
    "train_y = train[['failure_actual_fail']]\n",
    "test_features = test.drop(columns=['failure_actual_fail'])\n",
    "test_y = test[['failure_actual_fail']]"
   ]
  },
  {
   "cell_type": "code",
   "execution_count": 84,
   "metadata": {},
   "outputs": [],
   "source": [
    "X_train, X_test, y_train, y_test = train_test_split(train_features, train_y, test_size=0.2, random_state = 1)"
   ]
  },
  {
   "cell_type": "code",
   "execution_count": 85,
   "metadata": {},
   "outputs": [
    {
     "name": "stdout",
     "output_type": "stream",
     "text": [
      "(25690, 25)\n",
      "(6423, 25)\n",
      "(25690, 1)\n",
      "(6423, 1)\n"
     ]
    }
   ],
   "source": [
    "print(X_train.shape)\n",
    "print(X_test.shape)\n",
    "print(y_train.shape)\n",
    "print(y_test.shape)"
   ]
  },
  {
   "cell_type": "code",
   "execution_count": 86,
   "metadata": {},
   "outputs": [
    {
     "name": "stdout",
     "output_type": "stream",
     "text": [
      "0    25041\n",
      "1      649\n",
      "Name: failure_actual_fail, dtype: int64\n",
      "0    6236\n",
      "1     187\n",
      "Name: failure_actual_fail, dtype: int64\n"
     ]
    }
   ],
   "source": [
    "print(y_train['failure_actual_fail'].value_counts())\n",
    "print(y_test['failure_actual_fail'].value_counts())"
   ]
  },
  {
   "cell_type": "markdown",
   "metadata": {},
   "source": [
    "## Creating balanced training set (Equal fails and no fails)"
   ]
  },
  {
   "cell_type": "code",
   "execution_count": 87,
   "metadata": {},
   "outputs": [
    {
     "name": "stdout",
     "output_type": "stream",
     "text": [
      "We have 649 positives\n",
      "(1947, 25)\n",
      "(1947, 1)\n"
     ]
    }
   ],
   "source": [
    "b_train_dataset = pd.concat([X_train, y_train], axis = 1)\n",
    "positives_df = b_train_dataset[b_train_dataset['failure_actual_fail'] == 1]\n",
    "print(f\"We have {len(positives_df)} positives\")\n",
    "negatives_df = b_train_dataset[b_train_dataset['failure_actual_fail'] == 0]\n",
    "negatives_df_subset = negatives_df.sample(649*2, random_state=3244)\n",
    "balanced_df = pd.concat([positives_df, negatives_df_subset], axis = 0)\n",
    "balanced_df = balanced_df.sample(frac=1).reset_index(drop=True)\n",
    "X_train_balanced = balanced_df.drop(columns=['failure_actual_fail'])\n",
    "y_train_balanced = balanced_df[['failure_actual_fail']]\n",
    "\n",
    "print(X_train_balanced.shape)\n",
    "print(y_train_balanced.shape)"
   ]
  },
  {
   "cell_type": "code",
   "execution_count": 88,
   "metadata": {},
   "outputs": [
    {
     "data": {
      "text/plain": [
       "failure_actual_fail\n",
       "0                      1298\n",
       "1                       649\n",
       "dtype: int64"
      ]
     },
     "execution_count": 88,
     "metadata": {},
     "output_type": "execute_result"
    }
   ],
   "source": [
    "y_train_balanced.value_counts()"
   ]
  },
  {
   "cell_type": "markdown",
   "metadata": {},
   "source": [
    "## Model building"
   ]
  },
  {
   "cell_type": "code",
   "execution_count": 89,
   "metadata": {},
   "outputs": [],
   "source": [
    "from sklearn.metrics import recall_score\n",
    "def FNR_calc(mat):\n",
    "    tn = mat[0,0]\n",
    "    tp = mat[1,1]\n",
    "    fn = mat[1,0]\n",
    "    fp = mat[0,1]\n",
    "    print(f'tn: {tn}, fp: {fp},\\nfn: {fn},   tp: {tp}')\n",
    "    print(f'FNR: {round(fn/(fn+tp) * 100, 2)}%')\n",
    "    return fn/(fn+tp)\n",
    "\n",
    "def matrix_plotter(mat):\n",
    "    ax = sns.heatmap(mat, annot=True, cmap='Blues')\n",
    "    ax.set_title('Seaborn Confusion Matrix with labels\\n\\n')\n",
    "    ax.set_xlabel('\\nPredicted Values')\n",
    "    ax.set_ylabel('Actual Values ')\n",
    "    ax.xaxis.set_ticklabels(['False','True'])\n",
    "    ax.yaxis.set_ticklabels(['False','True'])\n",
    "    plt.show()"
   ]
  },
  {
   "cell_type": "code",
   "execution_count": 90,
   "metadata": {},
   "outputs": [
    {
     "data": {
      "text/plain": [
       "dict_keys(['explained_variance', 'r2', 'max_error', 'neg_median_absolute_error', 'neg_mean_absolute_error', 'neg_mean_absolute_percentage_error', 'neg_mean_squared_error', 'neg_mean_squared_log_error', 'neg_root_mean_squared_error', 'neg_mean_poisson_deviance', 'neg_mean_gamma_deviance', 'accuracy', 'top_k_accuracy', 'roc_auc', 'roc_auc_ovr', 'roc_auc_ovo', 'roc_auc_ovr_weighted', 'roc_auc_ovo_weighted', 'balanced_accuracy', 'average_precision', 'neg_log_loss', 'neg_brier_score', 'adjusted_rand_score', 'rand_score', 'homogeneity_score', 'completeness_score', 'v_measure_score', 'mutual_info_score', 'adjusted_mutual_info_score', 'normalized_mutual_info_score', 'fowlkes_mallows_score', 'precision', 'precision_macro', 'precision_micro', 'precision_samples', 'precision_weighted', 'recall', 'recall_macro', 'recall_micro', 'recall_samples', 'recall_weighted', 'f1', 'f1_macro', 'f1_micro', 'f1_samples', 'f1_weighted', 'jaccard', 'jaccard_macro', 'jaccard_micro', 'jaccard_samples', 'jaccard_weighted'])"
      ]
     },
     "execution_count": 90,
     "metadata": {},
     "output_type": "execute_result"
    }
   ],
   "source": [
    "import sklearn.metrics\n",
    "sklearn.metrics.SCORERS.keys()"
   ]
  },
  {
   "cell_type": "markdown",
   "metadata": {},
   "source": [
    "## Decision Trees"
   ]
  },
  {
   "cell_type": "code",
   "execution_count": 91,
   "metadata": {},
   "outputs": [
    {
     "name": "stdout",
     "output_type": "stream",
     "text": [
      "FNR cv_scores: [20.77, 16.15, 22.48, 25.38, 20.0]\n"
     ]
    }
   ],
   "source": [
    "dt = DecisionTreeClassifier(random_state=1)\n",
    "dt_cv = cross_val_score(dt, X_train_balanced, y_train_balanced, scoring='recall', cv=5)\n",
    "print(f'FNR cv_scores: {[round((1-x)*100, 2) for x in list(dt_cv)]}')"
   ]
  },
  {
   "cell_type": "code",
   "execution_count": 92,
   "metadata": {},
   "outputs": [
    {
     "name": "stdout",
     "output_type": "stream",
     "text": [
      "tn: 5619, fp: 617,\n",
      "fn: 49,   tp: 138\n",
      "FNR: 26.2%\n",
      "0.2620320855614974\n"
     ]
    },
    {
     "data": {
      "image/png": "[encoded data removed]",
      "text/plain": [
       "<Figure size 432x288 with 2 Axes>"
      ]
     },
     "metadata": {
      "needs_background": "light"
     },
     "output_type": "display_data"
    }
   ],
   "source": [
    "dt = DecisionTreeClassifier(random_state=1)\n",
    "dt.fit(X_train_balanced, y_train_balanced)\n",
    "y_pred = dt.predict(X_test)\n",
    "cf_matrix = confusion_matrix(y_test, y_pred)\n",
    "\n",
    "FNR_calc(cf_matrix)\n",
    "print(1 - recall_score(y_test, y_pred))\n",
    "matrix_plotter(cf_matrix)"
   ]
  },
  {
   "cell_type": "markdown",
   "metadata": {},
   "source": [
    "## RF"
   ]
  },
  {
   "cell_type": "code",
   "execution_count": 93,
   "metadata": {},
   "outputs": [
    {
     "name": "stdout",
     "output_type": "stream",
     "text": [
      "FNR cv_scores: [17.69, 21.54, 31.78, 25.38, 25.38]\n"
     ]
    }
   ],
   "source": [
    "rf = RandomForestClassifier(random_state=1)\n",
    "rf_cv = cross_val_score(rf, X_train_balanced, y_train_balanced, scoring='recall', cv=5)\n",
    "print(f'FNR cv_scores: {[round((1-x)*100, 2) for x in list(rf_cv)]}')"
   ]
  },
  {
   "cell_type": "code",
   "execution_count": 94,
   "metadata": {},
   "outputs": [
    {
     "name": "stdout",
     "output_type": "stream",
     "text": [
      "tn: 5910, fp: 326,\n",
      "fn: 46,   tp: 141\n",
      "FNR: 24.6%\n",
      "0.2459893048128342\n"
     ]
    },
    {
     "data": {
      "image/png": "[encoded data removed]",
      "text/plain": [
       "<Figure size 432x288 with 2 Axes>"
      ]
     },
     "metadata": {
      "needs_background": "light"
     },
     "output_type": "display_data"
    }
   ],
   "source": [
    "rf = RandomForestClassifier(random_state=1)\n",
    "rf.fit(X_train_balanced, y_train_balanced)\n",
    "y_pred = rf.predict(X_test)\n",
    "cf_matrix = confusion_matrix(y_test, y_pred)\n",
    "\n",
    "FNR_calc(cf_matrix)\n",
    "print(1 - recall_score(y_test, y_pred))\n",
    "matrix_plotter(cf_matrix)"
   ]
  },
  {
   "cell_type": "markdown",
   "metadata": {},
   "source": [
    "## ADA"
   ]
  },
  {
   "cell_type": "code",
   "execution_count": 95,
   "metadata": {},
   "outputs": [
    {
     "name": "stdout",
     "output_type": "stream",
     "text": [
      "FNR cv_scores: [20.0, 21.54, 24.03, 26.92, 23.08]\n"
     ]
    }
   ],
   "source": [
    "ada = AdaBoostClassifier(random_state=1)\n",
    "ada_cv = cross_val_score(ada, X_train_balanced, y_train_balanced, scoring='recall', cv=5)\n",
    "print(f'FNR cv_scores: {[round((1-x)*100, 2) for x in list(ada_cv)]}')"
   ]
  },
  {
   "cell_type": "code",
   "execution_count": 96,
   "metadata": {},
   "outputs": [
    {
     "name": "stdout",
     "output_type": "stream",
     "text": [
      "tn: 5711, fp: 525,\n",
      "fn: 49,   tp: 138\n",
      "FNR: 26.2%\n",
      "0.2620320855614974\n"
     ]
    },
    {
     "data": {
      "image/png": "[encoded data removed]",
      "text/plain": [
       "<Figure size 432x288 with 2 Axes>"
      ]
     },
     "metadata": {
      "needs_background": "light"
     },
     "output_type": "display_data"
    }
   ],
   "source": [
    "ada = AdaBoostClassifier(random_state=1)\n",
    "ada.fit(X_train_balanced, y_train_balanced)\n",
    "y_pred = ada.predict(X_test)\n",
    "cf_matrix = confusion_matrix(y_test, y_pred)\n",
    "\n",
    "FNR_calc(cf_matrix)\n",
    "print(1 - recall_score(y_test, y_pred))\n",
    "matrix_plotter(cf_matrix)"
   ]
  },
  {
   "cell_type": "markdown",
   "metadata": {},
   "source": [
    "## Gradient Boosting Algo"
   ]
  },
  {
   "cell_type": "code",
   "execution_count": 97,
   "metadata": {},
   "outputs": [
    {
     "name": "stdout",
     "output_type": "stream",
     "text": [
      "FNR cv_scores: [17.69, 20.0, 24.03, 25.38, 25.38]\n"
     ]
    }
   ],
   "source": [
    "gb = GradientBoostingClassifier(random_state=1)\n",
    "gb_cv = cross_val_score(gb, X_train_balanced, y_train_balanced, scoring='recall', cv=5)\n",
    "print(f'FNR cv_scores: {[round((1-x)*100, 2) for x in list(gb_cv)]}')"
   ]
  },
  {
   "cell_type": "code",
   "execution_count": 98,
   "metadata": {},
   "outputs": [
    {
     "name": "stdout",
     "output_type": "stream",
     "text": [
      "tn: 5893, fp: 343,\n",
      "fn: 48,   tp: 139\n",
      "FNR: 25.67%\n",
      "0.25668449197860965\n"
     ]
    },
    {
     "data": {
      "image/png": "[encoded data removed]",
      "text/plain": [
       "<Figure size 432x288 with 2 Axes>"
      ]
     },
     "metadata": {
      "needs_background": "light"
     },
     "output_type": "display_data"
    }
   ],
   "source": [
    "gb = GradientBoostingClassifier(random_state=1)\n",
    "gb.fit(X_train_balanced, y_train_balanced)\n",
    "y_pred = gb.predict(X_test)\n",
    "cf_matrix = confusion_matrix(y_test, y_pred)\n",
    "\n",
    "FNR_calc(cf_matrix)\n",
    "print(1 - recall_score(y_test, y_pred))\n",
    "matrix_plotter(cf_matrix)"
   ]
  },
  {
   "cell_type": "markdown",
   "metadata": {},
   "source": [
    "## XGBoost"
   ]
  },
  {
   "cell_type": "code",
   "execution_count": 99,
   "metadata": {},
   "outputs": [
    {
     "name": "stdout",
     "output_type": "stream",
     "text": [
      "FNR cv_scores: [15.38, 18.46, 24.03, 23.85, 24.62]\n"
     ]
    }
   ],
   "source": [
    "xgbc = xgb.XGBClassifier(verbosity = 0)\n",
    "xgbc_cv = cross_val_score(xgbc, X_train_balanced, y_train_balanced, scoring='recall', cv=5)\n",
    "print(f'FNR cv_scores: {[round((1-x)*100, 2) for x in list(xgbc_cv)]}')"
   ]
  },
  {
   "cell_type": "code",
   "execution_count": 100,
   "metadata": {},
   "outputs": [
    {
     "name": "stdout",
     "output_type": "stream",
     "text": [
      "tn: 5885, fp: 351,\n",
      "fn: 39,   tp: 148\n",
      "FNR: 20.86%\n",
      "0.20855614973262027\n"
     ]
    },
    {
     "data": {
      "image/png": "[encoded data removed]",
      "text/plain": [
       "<Figure size 432x288 with 2 Axes>"
      ]
     },
     "metadata": {
      "needs_background": "light"
     },
     "output_type": "display_data"
    }
   ],
   "source": [
    "xgbc = xgb.XGBClassifier(verbosity = 0)\n",
    "xgbc.fit(X_train_balanced,y_train_balanced)\n",
    "y_pred = xgbc.predict(X_test)\n",
    "cf_matrix = confusion_matrix(y_test, y_pred)\n",
    "\n",
    "FNR_calc(cf_matrix)\n",
    "print(1 - recall_score(y_test, y_pred))\n",
    "matrix_plotter(cf_matrix)"
   ]
  },
  {
   "cell_type": "markdown",
   "metadata": {},
   "source": [
    "## Stacked"
   ]
  },
  {
   "cell_type": "code",
   "execution_count": 101,
   "metadata": {},
   "outputs": [
    {
     "name": "stdout",
     "output_type": "stream",
     "text": [
      "FNR cv_scores: [15.38, 20.0, 26.36, 25.38, 24.62]\n"
     ]
    }
   ],
   "source": [
    "warnings.simplefilter('ignore')\n",
    "stack_estimators = [('boost', GradientBoostingClassifier(random_state=1)),\n",
    "('xgboost', xgb.XGBClassifier(random_state=1, verbosity = 0)),\n",
    "('rf', RandomForestClassifier(random_state=1))]\n",
    "stacked = StackingClassifier(estimators= stack_estimators, final_estimator=LogisticRegression())\n",
    "stacked_cv = cross_val_score(stacked, X_train_balanced, y_train_balanced, scoring='recall', cv=5)\n",
    "print(f'FNR cv_scores: {[round((1-x)*100, 2) for x in list(stacked_cv)]}')"
   ]
  },
  {
   "cell_type": "code",
   "execution_count": 102,
   "metadata": {},
   "outputs": [
    {
     "name": "stdout",
     "output_type": "stream",
     "text": [
      "tn: 5920, fp: 316,\n",
      "fn: 45,   tp: 142\n",
      "FNR: 24.06%\n",
      "0.2406417112299465\n"
     ]
    },
    {
     "data": {
      "image/png": "[encoded data removed]",
      "text/plain": [
       "<Figure size 432x288 with 2 Axes>"
      ]
     },
     "metadata": {
      "needs_background": "light"
     },
     "output_type": "display_data"
    }
   ],
   "source": [
    "stack_estimators = [('boost', GradientBoostingClassifier(random_state=1)),\n",
    "('xgboost', xgb.XGBClassifier(random_state=1, verbosity = 0)),\n",
    "('rf', RandomForestClassifier(random_state = 1))]\n",
    "stacked = StackingClassifier(estimators= stack_estimators, final_estimator=LogisticRegression())\n",
    "stacked.fit(X_train_balanced, y_train_balanced)\n",
    "y_pred = stacked.predict(X_test)\n",
    "cf_matrix = confusion_matrix(y_test, y_pred)\n",
    "\n",
    "FNR_calc(cf_matrix)\n",
    "print(1 - recall_score(y_test, y_pred))\n",
    "matrix_plotter(cf_matrix)"
   ]
  },
  {
   "cell_type": "markdown",
   "metadata": {},
   "source": [
    "## KNN"
   ]
  },
  {
   "cell_type": "code",
   "execution_count": 103,
   "metadata": {},
   "outputs": [
    {
     "name": "stdout",
     "output_type": "stream",
     "text": [
      "FNR cv_scores: [100.0, 100.0, 100.0, 100.0, 100.0]\n"
     ]
    }
   ],
   "source": [
    "knn = KNeighborsClassifier()\n",
    "knn_cv = cross_val_score(knn, X_train_balanced, y_train_balanced, scoring='recall', cv=5)\n",
    "print(f'FNR cv_scores: {[round((1-x)*100, 2) for x in list(knn_cv)]}')"
   ]
  },
  {
   "cell_type": "code",
   "execution_count": 104,
   "metadata": {},
   "outputs": [
    {
     "name": "stdout",
     "output_type": "stream",
     "text": [
      "tn: 0, fp: 6236,\n",
      "fn: 0,   tp: 187\n",
      "FNR: 0.0%\n",
      "0.0\n"
     ]
    },
    {
     "data": {
      "image/png": "[encoded data removed]",
      "text/plain": [
       "<Figure size 432x288 with 2 Axes>"
      ]
     },
     "metadata": {
      "needs_background": "light"
     },
     "output_type": "display_data"
    }
   ],
   "source": [
    "knn = KNeighborsClassifier()\n",
    "knn.fit(X_train_balanced, y_train_balanced)\n",
    "y_pred = knn.predict(X_test)\n",
    "cf_matrix = confusion_matrix(y_test, y_pred)\n",
    "\n",
    "FNR_calc(cf_matrix)\n",
    "print(1 - recall_score(y_test, y_pred))\n",
    "matrix_plotter(cf_matrix)"
   ]
  },
  {
   "cell_type": "markdown",
   "metadata": {},
   "source": [
    "## NB"
   ]
  },
  {
   "cell_type": "code",
   "execution_count": 105,
   "metadata": {},
   "outputs": [
    {
     "name": "stdout",
     "output_type": "stream",
     "text": [
      "FNR cv_scores: [76.54, 74.07, 82.93, 82.72, 79.01, 92.59, 83.95, 86.42]\n"
     ]
    }
   ],
   "source": [
    "nb = GaussianNB()\n",
    "nb_cv = cross_val_score(nb, X_train_balanced, y_train_balanced, scoring='recall', cv=8)\n",
    "print(f'FNR cv_scores: {[round((1-x)*100, 2) for x in list(nb_cv)]}')"
   ]
  },
  {
   "cell_type": "code",
   "execution_count": 106,
   "metadata": {},
   "outputs": [
    {
     "name": "stdout",
     "output_type": "stream",
     "text": [
      "tn: 6198, fp: 38,\n",
      "fn: 156,   tp: 31\n",
      "FNR: 83.42%\n",
      "0.8342245989304813\n"
     ]
    },
    {
     "data": {
      "image/png": "[encoded data removed]",
      "text/plain": [
       "<Figure size 432x288 with 2 Axes>"
      ]
     },
     "metadata": {
      "needs_background": "light"
     },
     "output_type": "display_data"
    }
   ],
   "source": [
    "from sklearn.naive_bayes import GaussianNB\n",
    "nb = GaussianNB()\n",
    "nb.fit(X_train_balanced, y_train_balanced)\n",
    "y_pred = nb.predict(X_test)\n",
    "cf_matrix = confusion_matrix(y_test, y_pred)\n",
    "\n",
    "FNR_calc(cf_matrix)\n",
    "print(1 - recall_score(y_test, y_pred))\n",
    "matrix_plotter(cf_matrix)"
   ]
  },
  {
   "cell_type": "markdown",
   "metadata": {},
   "source": [
    "## SVC"
   ]
  },
  {
   "cell_type": "code",
   "execution_count": 107,
   "metadata": {},
   "outputs": [
    {
     "name": "stdout",
     "output_type": "stream",
     "text": [
      "FNR cv_scores: [100.0, 100.0, 100.0, 100.0, 100.0, 100.0, 100.0, 100.0]\n"
     ]
    }
   ],
   "source": [
    "svc = SVC()\n",
    "svm_cv = cross_val_score(svc, X_train_balanced, y_train_balanced, scoring='recall',cv = 8)\n",
    "print(f'FNR cv_scores: {[round((1-x)*100, 2) for x in list(svm_cv)]}')"
   ]
  },
  {
   "cell_type": "code",
   "execution_count": 108,
   "metadata": {},
   "outputs": [
    {
     "name": "stdout",
     "output_type": "stream",
     "text": [
      "tn: 6236, fp: 0,\n",
      "fn: 187,   tp: 0\n",
      "FNR: 100.0%\n",
      "1.0\n"
     ]
    },
    {
     "data": {
      "image/png": "[encoded data removed]",
      "text/plain": [
       "<Figure size 432x288 with 2 Axes>"
      ]
     },
     "metadata": {
      "needs_background": "light"
     },
     "output_type": "display_data"
    }
   ],
   "source": [
    "svc = SVC()\n",
    "svc.fit(X_train_balanced, y_train_balanced)\n",
    "y_pred = svc.predict(X_test)\n",
    "cf_matrix = confusion_matrix(y_test, y_pred)\n",
    "\n",
    "FNR_calc(cf_matrix)\n",
    "print(1 - recall_score(y_test, y_pred))\n",
    "matrix_plotter(cf_matrix)"
   ]
  },
  {
   "cell_type": "markdown",
   "metadata": {},
   "source": [
    "## END (Rough notes below)"
   ]
  },
  {
   "cell_type": "code",
   "execution_count": 109,
   "metadata": {},
   "outputs": [
    {
     "data": {
      "image/png": "[encoded data removed]",
      "text/plain": [
       "<Figure size 432x288 with 2 Axes>"
      ]
     },
     "metadata": {
      "needs_background": "light"
     },
     "output_type": "display_data"
    }
   ],
   "source": [
    "import seaborn as sns\n",
    "\n",
    "ax = sns.heatmap(cf_matrix, annot=True, cmap='Blues')\n",
    "\n",
    "ax.set_title('Seaborn Confusion Matrix with labels\\n\\n')\n",
    "ax.set_xlabel('\\nPredicted Values')\n",
    "ax.set_ylabel('Actual Values ')\n",
    "\n",
    "## Ticket labels - List must be in alphabetical order\n",
    "ax.xaxis.set_ticklabels(['False','True'])\n",
    "ax.yaxis.set_ticklabels(['False','True'])\n",
    "\n",
    "## Display the visualization of the Confusion Matrix.\n",
    "plt.show()"
   ]
  },
  {
   "cell_type": "markdown",
   "metadata": {},
   "source": [
    "Formula for computing the FNR (1 - Recall): \n",
    "\n",
    "1 - recall_score(y_test, y_pred)"
   ]
  },
  {
   "cell_type": "code",
   "execution_count": 110,
   "metadata": {},
   "outputs": [
    {
     "data": {
      "text/plain": [
       "array([[6236,    0],\n",
       "       [ 187,    0]], dtype=int64)"
      ]
     },
     "execution_count": 110,
     "metadata": {},
     "output_type": "execute_result"
    }
   ],
   "source": [
    "cf_matrix"
   ]
  },
  {
   "cell_type": "code",
   "execution_count": 111,
   "metadata": {},
   "outputs": [
    {
     "name": "stdout",
     "output_type": "stream",
     "text": [
      "6236 0 187 0\n",
      "1.0\n"
     ]
    }
   ],
   "source": [
    "tn = cf_matrix[0,0]\n",
    "tp = cf_matrix[1,1]\n",
    "fn = cf_matrix[1,0]\n",
    "fp = cf_matrix[0,1]\n",
    "print(tn, tp, fn, fp)\n",
    "print(fn/(fn+tp))\n",
    "#cf_matrix[0,0]/(cf_matrix[0,0]+cf_matrix[0,1])"
   ]
  }
 ],
 "metadata": {
  "interpreter": {
   "hash": "d62006d1f3422635846181a997a61e8ec3049f797e5d7dfe0cd1bb84092b7c19"
  },
  "kernelspec": {
   "display_name": "Python 3.9.5 64-bit",
   "language": "python",
   "name": "python3"
  },
  "language_info": {
   "codemirror_mode": {
    "name": "ipython",
    "version": 3
   },
   "file_extension": ".py",
   "mimetype": "text/x-python",
   "name": "python",
   "nbconvert_exporter": "python",
   "pygments_lexer": "ipython3",
   "version": "3.9.5"
  },
  "orig_nbformat": 4
 },
 "nbformat": 4,
 "nbformat_minor": 2
}
