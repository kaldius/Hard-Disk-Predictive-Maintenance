{
 "cells": [
  {
   "cell_type": "code",
   "execution_count": 1,
   "metadata": {},
   "outputs": [
    {
     "name": "stderr",
     "output_type": "stream",
     "text": [
      "C:\\Users\\Dell\\AppData\\Local\\Programs\\Python\\Python39\\lib\\site-packages\\numpy\\_distributor_init.py:30: UserWarning: loaded more than 1 DLL from .libs:\n",
      "C:\\Users\\Dell\\AppData\\Local\\Programs\\Python\\Python39\\lib\\site-packages\\numpy\\.libs\\libopenblas.GK7GX5KEQ4F6UYO3P26ULGBQYHGQO7J4.gfortran-win_amd64.dll\n",
      "C:\\Users\\Dell\\AppData\\Local\\Programs\\Python\\Python39\\lib\\site-packages\\numpy\\.libs\\libopenblas.XWYDX2IKJW2NMTWSFYNGFUWKQU3LYTCZ.gfortran-win_amd64.dll\n",
      "  warnings.warn(\"loaded more than 1 DLL from .libs:\"\n"
     ]
    }
   ],
   "source": [
    "import pandas as pd\n",
    "import numpy as np\n",
    "from sklearn.linear_model import LogisticRegression\n",
    "from sklearn.svm import SVC\n",
    "from sklearn.neighbors import KNeighborsClassifier\n",
    "from sklearn.model_selection import cross_val_score\n",
    "from sklearn.naive_bayes import GaussianNB\n",
    "from sklearn.tree import DecisionTreeClassifier\n",
    "from sklearn.ensemble import GradientBoostingClassifier\n",
    "from sklearn.ensemble import RandomForestClassifier\n",
    "from sklearn.ensemble import AdaBoostClassifier\n",
    "import plotly.express as px\n",
    "from sklearn.metrics import roc_auc_score\n",
    "from sklearn.metrics import accuracy_score\n",
    "from sklearn.model_selection import GridSearchCV\n",
    "from sklearn.model_selection import train_test_split\n",
    "import xgboost as xgb\n",
    "from xgboost import XGBClassifier\n",
    "import warnings\n",
    "warnings.simplefilter('ignore')\n",
    "from sklearn.metrics import confusion_matrix\n",
    "import matplotlib.pyplot as plt\n",
    "import seaborn as sns\n",
    "from sklearn.ensemble import StackingClassifier\n",
    "from imblearn.over_sampling import RandomOverSampler, SMOTE\n",
    "from imblearn.under_sampling import RandomUnderSampler\n",
    "from imblearn.pipeline import Pipeline\n",
    "from sklearn.model_selection import cross_validate\n",
    "from imblearn.combine import SMOTETomek\n",
    "import shap \n",
    "pd.set_option('display.max_columns',30)\n",
    "import time\n",
    "\n",
    "# from utils import DataLoader\n",
    "from sklearn.ensemble import RandomForestClassifier\n",
    "from sklearn.metrics import f1_score, accuracy_score\n",
    "from interpret.blackbox import LimeTabular\n",
    "from interpret import show\n",
    "\n",
    "# # %% Load and preprocess data\n",
    "# data_loader = DataLoader()\n",
    "# data_loader.load_dataset()\n",
    "# data_loader.preprocess_data()"
   ]
  },
  {
   "cell_type": "code",
   "execution_count": 2,
   "metadata": {},
   "outputs": [],
   "source": [
    "train = pd.read_csv('Cleaned_data/Train_dataset.csv', index_col=0)\n",
    "test = pd.read_csv('Cleaned_data/Test_dataset.csv', index_col=0)\n",
    "#test = pd.read_csv('Cleaned_data/New_test_dataset.csv', index_col=0)"
   ]
  },
  {
   "cell_type": "code",
   "execution_count": 3,
   "metadata": {},
   "outputs": [
    {
     "data": {
      "text/plain": [
       "0    31277\n",
       "1      836\n",
       "Name: failure_actual_fail, dtype: int64"
      ]
     },
     "execution_count": 3,
     "metadata": {},
     "output_type": "execute_result"
    }
   ],
   "source": [
    "train.drop(columns = ['date_x','serial_number','model','failure_x','date_actual_fail','capacity_bytes'], inplace=True)\n",
    "test.drop(columns = ['date_x','serial_number','model','failure_x','date_actual_fail','new_date','capacity_bytes'], inplace=True)\n",
    "train.head()\n",
    "train['failure_actual_fail'].value_counts()"
   ]
  },
  {
   "cell_type": "code",
   "execution_count": 4,
   "metadata": {},
   "outputs": [],
   "source": [
    "train_features = train.drop(columns=['failure_actual_fail'])\n",
    "train_y = train[['failure_actual_fail']]\n",
    "test_features = test.drop(columns=['failure_actual_fail'])\n",
    "test_y = test[['failure_actual_fail']]"
   ]
  },
  {
   "cell_type": "code",
   "execution_count": 5,
   "metadata": {},
   "outputs": [],
   "source": [
    "X_train, X_test, y_train, y_test = train_test_split(train_features, train_y, test_size=0.3, random_state = 1)\n",
    "X_test, test_features, y_test, test_y =  train_test_split(X_test, y_test, test_size=0.5, random_state = 1)"
   ]
  },
  {
   "cell_type": "code",
   "execution_count": 6,
   "metadata": {},
   "outputs": [],
   "source": [
    "from sklearn.metrics import recall_score\n",
    "def FNR_calc(mat):\n",
    "    tn = mat[0,0]\n",
    "    tp = mat[1,1]\n",
    "    fn = mat[1,0]\n",
    "    fp = mat[0,1]\n",
    "    print(f'tn: {tn}, fp: {fp},\\nfn: {fn},   tp: {tp}')\n",
    "    print(f'FNR: {round(fn/(fn+tp) * 100, 2)}%')\n",
    "    print(f'Recall: {round(tp/(fn+tp) * 100, 2)}%')\n",
    "    print(f'Precision: {round(tp/(fp+tp) * 100, 2)}%')\n",
    "    return fn/(fn+tp)\n",
    "\n",
    "def matrix_plotter(mat):\n",
    "    ax = sns.heatmap(mat, annot=True, cmap='Blues', fmt='g')\n",
    "    ax.set_title('Hard disk Failure')\n",
    "    ax.set_xlabel('Predicted Fail')\n",
    "    ax.set_ylabel('Actual Fail')\n",
    "    ax.xaxis.set_ticklabels(['False','True'])\n",
    "    ax.yaxis.set_ticklabels(['False','True'])\n",
    "    plt.show()"
   ]
  },
  {
   "cell_type": "code",
   "execution_count": 7,
   "metadata": {},
   "outputs": [
    {
     "name": "stdout",
     "output_type": "stream",
     "text": [
      "tn: 4599, fp: 74,\n",
      "fn: 49,   tp: 95\n",
      "FNR: 34.03%\n",
      "Recall: 65.97%\n",
      "Precision: 56.21%\n"
     ]
    },
    {
     "data": {
      "image/png": "[encoded data removed]",
      "text/plain": [
       "<Figure size 432x288 with 2 Axes>"
      ]
     },
     "metadata": {
      "needs_background": "light"
     },
     "output_type": "display_data"
    }
   ],
   "source": [
    "basicOS = RandomOverSampler(sampling_strategy=0.5, random_state = 2331) #can set the proportion of minority/total \n",
    "under = RandomUnderSampler(sampling_strategy=1, random_state=2338)\n",
    "X_over, y_over = basicOS.fit_resample(X_train, y_train)\n",
    "train_basicOS, label_basicOS = under.fit_resample(X_over,y_over)\n",
    "\n",
    "xgbc = XGBClassifier(verbosity = 0)\n",
    "xgbc.fit(train_basicOS, label_basicOS)\n",
    "y_pred = xgbc.predict(X_test)\n",
    "cf_matrix = confusion_matrix(y_test, y_pred)\n",
    "\n",
    "FNR_calc(cf_matrix)\n",
    "matrix_plotter(cf_matrix)"
   ]
  },
  {
   "cell_type": "code",
   "execution_count": 8,
   "metadata": {},
   "outputs": [],
   "source": [
    "test_features.reset_index(inplace=True, drop=True)\n",
    "test_y.reset_index(inplace=True, drop=True)"
   ]
  },
  {
   "cell_type": "code",
   "execution_count": 9,
   "metadata": {},
   "outputs": [],
   "source": [
    "points = test_features[test_y['failure_actual_fail']==1]"
   ]
  },
  {
   "cell_type": "code",
   "execution_count": 10,
   "metadata": {},
   "outputs": [],
   "source": [
    "points_y = test_y[test_y['failure_actual_fail']==1]"
   ]
  },
  {
   "cell_type": "code",
   "execution_count": 11,
   "metadata": {},
   "outputs": [],
   "source": [
    "lime = LimeTabular(predict_fn=xgbc.predict_proba, \n",
    "                   data=train_basicOS, \n",
    "                   random_state=1)\n",
    "# Get local explanations\n",
    "lime_local = lime.explain_local(points[1:10], \n",
    "                                points_y[1:10], \n",
    "                                name='LIME')"
   ]
  },
  {
   "cell_type": "code",
   "execution_count": 12,
   "metadata": {},
   "outputs": [
    {
     "data": {
      "text/html": [
       "<!-- http://127.0.0.1:7001/2920844677424/ -->\n",
       "<iframe src=\"http://127.0.0.1:7001/2920844677424/\" width=100% height=800 frameBorder=\"0\"></iframe>"
      ]
     },
     "metadata": {},
     "output_type": "display_data"
    }
   ],
   "source": [
    "show(lime_local)"
   ]
  },
  {
   "cell_type": "code",
   "execution_count": 13,
   "metadata": {},
   "outputs": [],
   "source": [
    "lime_local_2 = lime.explain_local(points[50:70], \n",
    "                                points_y[50:70], \n",
    "                                name='LIME')"
   ]
  },
  {
   "cell_type": "code",
   "execution_count": 14,
   "metadata": {},
   "outputs": [
    {
     "data": {
      "text/html": [
       "<!-- http://127.0.0.1:7001/2920883598288/ -->\n",
       "<iframe src=\"http://127.0.0.1:7001/2920883598288/\" width=100% height=800 frameBorder=\"0\"></iframe>"
      ]
     },
     "metadata": {},
     "output_type": "display_data"
    }
   ],
   "source": [
    "show(lime_local_2)"
   ]
  },
  {
   "cell_type": "code",
   "execution_count": 15,
   "metadata": {},
   "outputs": [],
   "source": [
    "lime_local_2 = lime.explain_local(test_features[1:5], \n",
    "                                test_y[1:5], \n",
    "                                name='LIME')"
   ]
  },
  {
   "cell_type": "code",
   "execution_count": 16,
   "metadata": {},
   "outputs": [
    {
     "data": {
      "text/html": [
       "<!-- http://127.0.0.1:7001/2920844537520/ -->\n",
       "<iframe src=\"http://127.0.0.1:7001/2920844537520/\" width=100% height=800 frameBorder=\"0\"></iframe>"
      ]
     },
     "metadata": {},
     "output_type": "display_data"
    }
   ],
   "source": [
    "show(lime_local_2)"
   ]
  }
 ],
 "metadata": {
  "interpreter": {
   "hash": "d62006d1f3422635846181a997a61e8ec3049f797e5d7dfe0cd1bb84092b7c19"
  },
  "kernelspec": {
   "display_name": "Python 3.9.5 64-bit",
   "language": "python",
   "name": "python3"
  },
  "language_info": {
   "codemirror_mode": {
    "name": "ipython",
    "version": 3
   },
   "file_extension": ".py",
   "mimetype": "text/x-python",
   "name": "python",
   "nbconvert_exporter": "python",
   "pygments_lexer": "ipython3",
   "version": "3.9.5"
  },
  "orig_nbformat": 4
 },
 "nbformat": 4,
 "nbformat_minor": 2
}
