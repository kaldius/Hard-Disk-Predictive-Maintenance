{
 "cells": [
  {
   "cell_type": "code",
   "execution_count": 43,
   "metadata": {},
   "outputs": [],
   "source": [
    "import pandas as pd\n",
    "import numpy as np\n",
    "import sklearn\n",
    "from sklearn.neural_network import MLPClassifier\n",
    "import matplotlib.pyplot as pyplot\n",
    "import pickle\n",
    "from matplotlib import style\n",
    "from sklearn.metrics import confusion_matrix\n",
    "import seaborn as sns\n",
    "from imblearn.over_sampling import RandomOverSampler, SMOTE\n",
    "from imblearn.under_sampling import RandomUnderSampler\n",
    "from imblearn.pipeline import Pipeline"
   ]
  },
  {
   "cell_type": "code",
   "execution_count": 44,
   "metadata": {},
   "outputs": [],
   "source": [
    "data = pd.read_csv(\"Train_dataset.csv\")\n",
    "#data = data[['smart_12_normalized', 'smart_189_normalized', 'smart_190_normalized', 'smart_193_normalized',\n",
    "#             'smart_199_normalized', 'smart_240_normalized', 'smart_242_normalized', 'smart_5_normalized',\n",
    "#             'smart_187_normalized', 'smart_188_normalized', 'smart_197_normalized', 'smart_198_normalized',\n",
    "#             'failure_actual_fail']]\n",
    "\n",
    "data = data[['smart_1_normalized','smart_3_normalized','smart_4_normalized',\n",
    "'smart_5_normalized','smart_7_normalized','smart_9_normalized',\n",
    "'smart_12_normalized', 'smart_183_normalized','smart_184_normalized','smart_187_normalized', 'smart_188_normalized',\n",
    "'smart_189_normalized', 'smart_190_normalized', 'smart_193_normalized', 'smart_194_normalized',\n",
    "'smart_197_normalized', 'smart_198_normalized', 'failure_actual_fail']]"
   ]
  },
  {
   "cell_type": "code",
   "execution_count": 45,
   "metadata": {},
   "outputs": [
    {
     "data": {
      "text/plain": [
       "(32113, 18)"
      ]
     },
     "execution_count": 45,
     "metadata": {},
     "output_type": "execute_result"
    }
   ],
   "source": [
    "data.shape"
   ]
  },
  {
   "cell_type": "code",
   "execution_count": 46,
   "metadata": {},
   "outputs": [],
   "source": [
    "x = data.drop(columns=\"failure_actual_fail\")\n",
    "y = data[\"failure_actual_fail\"]\n"
   ]
  },
  {
   "cell_type": "code",
   "execution_count": 47,
   "metadata": {},
   "outputs": [],
   "source": [
    "#Train test split\n",
    "train_data1, eval_data1, train_label1, eval_label1 = sklearn.model_selection.train_test_split(x, y, test_size=0.2)\n",
    "#train_data1, eval_data1, train_label1, eval_label1 = sklearn.model_selection.train_test_split(train_basicOS, label_basicOS, test_size=0.2)\n",
    "#train_data2, eval_data2, train_label2, eval_label2 = sklearn.model_selection.train_test_split(train_smoteOS, label_smoteOS, test_size=0.2)\n",
    "#train_data3, eval_data3, train_label3, eval_label3 = sklearn.model_selection.train_test_split(train_basicUS,label_basicUS, test_size=0.2)\n",
    "#train_data4, eval_data4, train_label4, eval_label4 = sklearn.model_selection.train_test_split(train_mix,label_mix, test_size=0.2)\n"
   ]
  },
  {
   "cell_type": "code",
   "execution_count": 48,
   "metadata": {},
   "outputs": [],
   "source": [
    "#basic over sample\n",
    "basicOS = RandomOverSampler(sampling_strategy =0.5) #can set the proportion of minority/total \n",
    "train_basicOS, label_basicOS = basicOS.fit_resample(train_data1,train_label1)\n",
    "\n",
    "#smote over sample\n",
    "smoteOS = SMOTE(sampling_strategy=0.5) #can set the proportion of minority/total\n",
    "train_smoteOS, label_smoteOS = smoteOS.fit_resample(train_data1,train_label1)\n",
    "\n",
    "#basic under sample\n",
    "basicUS = RandomUnderSampler(sampling_strategy=0.5)\n",
    "train_basicUS,label_basicUS = basicUS.fit_resample(train_data1,train_label1)\n",
    "\n",
    "#smote + undersample\n",
    "over = SMOTE(sampling_strategy=0.5)\n",
    "under = RandomUnderSampler(sampling_strategy=0.5)\n",
    "steps = [('o', over), ('u', under)]\n",
    "pipeline = Pipeline(steps=steps)\n",
    "train_mix,label_mix = pipeline.fit_resample(train_data1,train_label1)\n"
   ]
  },
  {
   "cell_type": "code",
   "execution_count": 49,
   "metadata": {},
   "outputs": [
    {
     "data": {
      "text/plain": [
       "MLPClassifier(hidden_layer_sizes=(24, 24, 6))"
      ]
     },
     "execution_count": 49,
     "metadata": {},
     "output_type": "execute_result"
    }
   ],
   "source": [
    "model1 = MLPClassifier(solver = \"adam\", activation=\"relu\", hidden_layer_sizes=(24,24,6))\n",
    "model1.fit(train_basicOS, label_basicOS)\n",
    "\n",
    "model2 = MLPClassifier(solver = \"adam\", activation=\"relu\", hidden_layer_sizes=(24,24,6))\n",
    "model2.fit(train_smoteOS, label_smoteOS)\n",
    "\n",
    "model3 = MLPClassifier(solver = \"adam\", activation=\"relu\", hidden_layer_sizes=(24,24,6))\n",
    "model3.fit(train_basicUS,label_basicUS)\n",
    "\n",
    "model4 = MLPClassifier(solver = \"adam\", activation=\"relu\", hidden_layer_sizes=(24,24,6))\n",
    "model4.fit(train_mix,label_mix)"
   ]
  },
  {
   "cell_type": "code",
   "execution_count": 50,
   "metadata": {},
   "outputs": [
    {
     "data": {
      "text/plain": [
       "0.9145259224661373"
      ]
     },
     "execution_count": 50,
     "metadata": {},
     "output_type": "execute_result"
    }
   ],
   "source": [
    "model1.score(eval_data1,eval_label1)\n",
    "model2.score(eval_data1,eval_label1)\n",
    "model3.score(eval_data1,eval_label1)\n",
    "model4.score(eval_data1,eval_label1)"
   ]
  },
  {
   "cell_type": "code",
   "execution_count": 51,
   "metadata": {},
   "outputs": [],
   "source": [
    "prediction1 = model1.predict(eval_data1)\n",
    "prediction2 = model2.predict(eval_data1)\n",
    "prediction3 = model3.predict(eval_data1)\n",
    "prediction4 = model4.predict(eval_data1)"
   ]
  },
  {
   "cell_type": "code",
   "execution_count": 55,
   "metadata": {},
   "outputs": [
    {
     "data": {
      "image/png": "[encoded data removed]",
      "text/plain": [
       "<Figure size 432x288 with 8 Axes>"
      ]
     },
     "metadata": {
      "needs_background": "light"
     },
     "output_type": "display_data"
    }
   ],
   "source": [
    "#actl_labels = [eval_label1,eval_label2,eval_label3,eval_label4]\n",
    "#actl_labels = [eval_label1]\n",
    "predictions = [prediction1,prediction2,prediction3,prediction4]\n",
    "all_cf_matrix = []\n",
    "for i in range(4):\n",
    "\n",
    "    pyplot.subplot(2,2,i+1)\n",
    "    cf_matrix = confusion_matrix(eval_label1, predictions[i])\n",
    "    #cf_matrix = confusion_matrix(actl_labels[i], predictions[i])\n",
    "    ax = sns.heatmap(cf_matrix, annot=True, cmap='Blues')\n",
    "    ax.set_xlabel('\\nPredicted Values')\n",
    "    ax.set_ylabel('Actual Values ')\n",
    "    all_cf_matrix.append(cf_matrix)\n",
    "\n",
    "    ## Ticket labels - List must be in alphabetical order\n",
    "    ax.xaxis.set_ticklabels(['False','True'])\n",
    "    ax.yaxis.set_ticklabels(['False','True'])\n",
    "pyplot.tight_layout()\n",
    "pyplot.show()"
   ]
  },
  {
   "cell_type": "code",
   "execution_count": 56,
   "metadata": {},
   "outputs": [
    {
     "name": "stdout",
     "output_type": "stream",
     "text": [
      "Basic Over Sample\n",
      "False negatives = 26, True positive = 139\n",
      "Total positives = 165, False Negative rate = 0.15757575757575756\n",
      "\n",
      "SMOTE\n",
      "False negatives = 26, True positive = 139\n",
      "Total positives = 165, False Negative rate = 0.15757575757575756\n",
      "\n",
      "Basic Under Sample\n",
      "False negatives = 55, True positive = 110\n",
      "Total positives = 165, False Negative rate = 0.3333333333333333\n",
      "\n",
      "SMOTE + Under Sample\n",
      "False negatives = 44, True positive = 121\n",
      "Total positives = 165, False Negative rate = 0.26666666666666666\n"
     ]
    }
   ],
   "source": [
    "print(\"Basic Over Sample\")\n",
    "cf_matrix = all_cf_matrix[0]\n",
    "print(f\"False negatives = {cf_matrix[1,0]}, True positive = {cf_matrix[1,1]}\")\n",
    "print(f\"Total positives = {sum(cf_matrix[1,:])}, False Negative rate = {cf_matrix[1,0]/sum(cf_matrix[1,:])}\")\n",
    "\n",
    "print(\"\\nSMOTE\")\n",
    "cf_matrix = all_cf_matrix[1]\n",
    "print(f\"False negatives = {cf_matrix[1,0]}, True positive = {cf_matrix[1,1]}\")\n",
    "print(f\"Total positives = {sum(cf_matrix[1,:])}, False Negative rate = {cf_matrix[1,0]/sum(cf_matrix[1,:])}\")\n",
    "\n",
    "print(\"\\nBasic Under Sample\")\n",
    "cf_matrix = all_cf_matrix[2]\n",
    "print(f\"False negatives = {cf_matrix[1,0]}, True positive = {cf_matrix[1,1]}\")\n",
    "print(f\"Total positives = {sum(cf_matrix[1,:])}, False Negative rate = {cf_matrix[1,0]/sum(cf_matrix[1,:])}\")\n",
    "\n",
    "print(\"\\nSMOTE + Under Sample\")\n",
    "cf_matrix = all_cf_matrix[3]\n",
    "print(f\"False negatives = {cf_matrix[1,0]}, True positive = {cf_matrix[1,1]}\")\n",
    "print(f\"Total positives = {sum(cf_matrix[1,:])}, False Negative rate = {cf_matrix[1,0]/sum(cf_matrix[1,:])}\")\n"
   ]
  },
  {
   "cell_type": "code",
   "execution_count": 57,
   "metadata": {},
   "outputs": [
    {
     "data": {
      "image/png": "[encoded data removed]",
      "text/plain": [
       "<Figure size 432x288 with 2 Axes>"
      ]
     },
     "metadata": {
      "needs_background": "light"
     },
     "output_type": "display_data"
    },
    {
     "name": "stdout",
     "output_type": "stream",
     "text": [
      "False negatives = 137, True positive = 28\n",
      "Total positives = 165, False Negative rate = 0.8303030303030303\n"
     ]
    },
    {
     "data": {
      "image/png": "[encoded data removed]",
      "text/plain": [
       "<Figure size 432x288 with 2 Axes>"
      ]
     },
     "metadata": {
      "needs_background": "light"
     },
     "output_type": "display_data"
    },
    {
     "name": "stdout",
     "output_type": "stream",
     "text": [
      "False negatives = 125, True positive = 40\n",
      "Total positives = 165, False Negative rate = 0.7575757575757576\n"
     ]
    }
   ],
   "source": [
    "model5 = MLPClassifier(solver = \"adam\", activation=\"relu\", hidden_layer_sizes=(24,24,6))\n",
    "model5.fit(train_data1, train_label1)\n",
    "prediction5 = model5.predict(eval_data1)\n",
    "cf_matrix = confusion_matrix(eval_label1, prediction5)\n",
    "ax = sns.heatmap(cf_matrix, annot=True, cmap='Blues')\n",
    "ax.set_xlabel('\\nPredicted Values')\n",
    "ax.set_ylabel('Actual Values ')\n",
    "all_cf_matrix.append(cf_matrix)\n",
    "\n",
    "## Ticket labels - List must be in alphabetical order\n",
    "ax.xaxis.set_ticklabels(['False','True'])\n",
    "ax.yaxis.set_ticklabels(['False','True'])\n",
    "pyplot.show()\n",
    "print(f\"False negatives = {cf_matrix[1,0]}, True positive = {cf_matrix[1,1]}\")\n",
    "print(f\"Total positives = {sum(cf_matrix[1,:])}, False Negative rate = {cf_matrix[1,0]/sum(cf_matrix[1,:])}\")\n",
    "\n",
    "model6 = MLPClassifier(solver = \"adam\", activation=\"relu\", hidden_layer_sizes=(24,24,6))\n",
    "model6.fit(train_data1, train_label1)\n",
    "prediction6 = model6.predict(eval_data1)\n",
    "cf_matrix = confusion_matrix(eval_label1, prediction6)\n",
    "ax = sns.heatmap(cf_matrix, annot=True, cmap='Blues')\n",
    "ax.set_xlabel('\\nPredicted Values')\n",
    "ax.set_ylabel('Actual Values ')\n",
    "all_cf_matrix.append(cf_matrix)\n",
    "\n",
    "## Ticket labels - List must be in alphabetical order\n",
    "ax.xaxis.set_ticklabels(['False','True'])\n",
    "ax.yaxis.set_ticklabels(['False','True'])\n",
    "pyplot.show()\n",
    "print(f\"False negatives = {cf_matrix[1,0]}, True positive = {cf_matrix[1,1]}\")\n",
    "print(f\"Total positives = {sum(cf_matrix[1,:])}, False Negative rate = {cf_matrix[1,0]/sum(cf_matrix[1,:])}\")\n",
    "\n"
   ]
  },
  {
   "cell_type": "code",
   "execution_count": 58,
   "metadata": {},
   "outputs": [
    {
     "name": "stdout",
     "output_type": "stream",
     "text": [
      "0.8598785614198973\n",
      "0.8750932537567943\n",
      "0.8306772908366534\n",
      "0.8444326052210975\n",
      "0.9732212361824693\n",
      "0.9711972598474233\n"
     ]
    }
   ],
   "source": [
    "print(model1.score(eval_data1,eval_label1))\n",
    "print(model2.score(eval_data2,eval_label2))\n",
    "print(model3.score(eval_data3,eval_label3))\n",
    "print(model4.score(eval_data4,eval_label4))\n",
    "print(model5.score(eval_data1,eval_label1))\n",
    "print(model6.score(eval_data1,eval_label1))"
   ]
  }
 ],
 "metadata": {
  "interpreter": {
   "hash": "361c6d05dd212cf87d39fa327b58365194619f3b80e2e8ef4a7dad953d434d31"
  },
  "kernelspec": {
   "display_name": "Python 3.10.4 64-bit (windows store)",
   "language": "python",
   "name": "python3"
  },
  "language_info": {
   "codemirror_mode": {
    "name": "ipython",
    "version": 3
   },
   "file_extension": ".py",
   "mimetype": "text/x-python",
   "name": "python",
   "nbconvert_exporter": "python",
   "pygments_lexer": "ipython3",
   "version": "3.10.2"
  },
  "orig_nbformat": 4
 },
 "nbformat": 4,
 "nbformat_minor": 2
}
